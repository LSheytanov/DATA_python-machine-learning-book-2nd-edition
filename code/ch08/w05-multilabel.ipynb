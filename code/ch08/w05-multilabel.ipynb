{
 "cells": [
  {
   "cell_type": "markdown",
   "metadata": {},
   "source": [
    "# Multi-label classification"
   ]
  },
  {
   "cell_type": "markdown",
   "metadata": {},
   "source": [
    "Contents:\n",
    "\n",
    "- [Classification problems](#Classification-problems)\n",
    "- [Theory - main approaches](#Theory---main-approaches)\n",
    "    - [Problem-transformation methods](#Problem-transformation-methods)\n",
    "        - [Binary relevance](#Binary-relevance)\n",
    "        - [Classifier chaining](#Classifier-chaining)\n",
    "        - [Label power-set](#Label-power-set-method)\n",
    "    - [Algorithm adaptation methods](#Algorithm-adaptation-methods)\n",
    "        - [Multi-Label-C4.5](#Multi-Label-C4.5)\n",
    "        - [Predictive-clustering-trees-(PCTs)](#Predictive-clustering-trees)\n",
    "    - [Ensemble methods](#Ensemble-methods)\n",
    "        - [Ensembles of classifier chains](#Ensembles-of-classifier-chains)\n",
    "        - [ Random forest of PCT](#Random-forest-of-predictive-clustering-trees)\n",
    "- [Multilabel classification with scikit-learn](#Multi-label-classification-with-scikit-learn)\n",
    "    - [Read and clean data](#Read-and-clean-data)\n",
    "    - [Build model - RandomForest](#Build-model---random-forest)\n",
    "    - [Build model - OneVsRest](#Build-model---OneVsRest)\n",
    "    - [Build model - ClassifierChain](#Build-model---ClassifierChain)\n",
    "- [Multilabel classification with scikit-multilearn](#Multi-label-classification-with-scikit-multilearn)    "
   ]
  },
  {
   "cell_type": "markdown",
   "metadata": {},
   "source": [
    "# Classification problems\n",
    "\n",
    "- Binary\n",
    "    - Email: ham or spam\n",
    "    - Customer churn: churn or not churn\n",
    "\n",
    "$X$ | $y$\n",
    "-|-\n",
    "$X_1$ | 0\n",
    "$X_2$ | 1\n",
    "\n",
    "- Multi-class\n",
    "    - Movie review sentiment: positive, neutral, negative\n",
    "    - Credit score: high risk, normal, low risk\n",
    "    \n",
    "$X$ | $y_1$ | $y_2$ | $y_3$\n",
    "-|-|-\n",
    "$X_1$ | 0 | 1 | 0\n",
    "$X_2$ | 1 | 0 | 0\n",
    "    \n",
    "- Multi-label\n",
    "    - Article: Sport & entertainment, business & education\n",
    "    - Paper: machine learning & computer science, computer science & human-computer interaction\n",
    "    - Image: tag objects in an image\n",
    "\n",
    "$X$ | $y_1$ | $y_2$ | $y_3$\n",
    "-|-|-\n",
    "$X_1$ | 1 | 1 | 0\n",
    "$X_2$ | 1 | 0 | 0\n",
    "\n",
    "\n"
   ]
  },
  {
   "cell_type": "markdown",
   "metadata": {},
   "source": [
    "# Theory - main approaches\n",
    "\n",
    "- See paper: [An extensive experimental comparison of methods for multi-label learning](http://kt.ijs.si/DragiKocev/wikipage/lib/exe/fetch.php?media=2012pr_ml_comparison.pdf)\n",
    "\n",
    "![alt text](https://lh6.googleusercontent.com/9B-9IS4BiusgMT8SpdPMQiVrNFE9Ufyp7u9a5lW7l_InBiafVC2tO1LdJg3AhOtpEzkx4GQmuTp23B8pJpyD=w1280-h663 \"Multi-label learning methods\")\n"
   ]
  },
  {
   "cell_type": "markdown",
   "metadata": {},
   "source": [
    "## Problem transformation methods \n",
    "\n",
    "### Binary relevance\n",
    "\n",
    "Binary relevance is the well known one-against-all\n",
    "strategy. It addresses the multi-label learning problem by learning\n",
    "one classifier for each label, using all the examples labeled\n",
    "with that label as positive examples and all remaining examples\n",
    "as negative. When making a prediction, each binary classifier\n",
    "predicts whether its label is relevant for the given example or not,\n",
    "resulting in a set of relevant labels. \n",
    "\n",
    "\n",
    "$X$ | $\\hat{y}_1$ | $\\hat{y}_2$ | $\\hat{y}_3$ \n",
    "-|-|-\n",
    "$X_1$ | $C_1$($X_1$) | $C_2$($X_1$) | $C_3$($X_1$)\n",
    "$X_2$ | $C_1$($X_2$) | $C_2$($X_2$) | $C_3$($X_2$)\n",
    "\n",
    "where $C_k$ is the binary classifier for label $k$ vs. others.\n",
    "\n"
   ]
  },
  {
   "cell_type": "markdown",
   "metadata": {},
   "source": [
    "### Classifier chaining\n",
    "\n",
    "The classifier chaining method involves Q binary\n",
    "classifiers as in BR. Classifiers are linked along a chain where\n",
    "the i-th classifier deals with the binary relevance problem\n",
    "associated with the corresponding label. The feature space of each\n",
    "link in the chain is extended with the 0/1 label associations of all\n",
    "previous links. \n",
    "\n",
    "$X$ | $\\hat{y}_1$ | $\\hat{y}_2$ | $\\hat{y}_3$ \n",
    "-|-|-\n",
    "$X_1$ | $C_1$($X_1$) | $C_2$($X_1$, $y_{11}$) | $C_3$($X_1$, $y_{11}$, $y_{12}$)\n",
    "$X_2$ | $C_1$($X_2$) | $C_2$($X_2$, $y_{21}$) | $C_3$($X_2$, $y_{21}$, $y_{22}$)\n",
    "\n",
    "where $C_k$ is the binary classifier for label $k$ vs. others.\n",
    "\n",
    "\n",
    "### Label power-set method\n",
    "\n",
    "Hierarchy Of Multi-label classifiERs (HOMER) is an algorithm\n",
    "for effective and computationally efficient multi-label learning in\n",
    "domains with a large number of labels. HOMER constructs a hierarchy of multi-label classifiers, each one dealing with a much\n",
    "smaller set of labels compared to Q (the total number of labels) and a\n",
    "more balanced example distribution. One of the main processes within\n",
    "HOMER is the even distribution of a set of labels into k disjoint\n",
    "subsets so that similar labels are placed together and dissimilar apart.\n",
    "For more information, see http://lpis.csd.auth.gr/publications/tsoumakas-mmd08.pdf"
   ]
  },
  {
   "cell_type": "markdown",
   "metadata": {},
   "source": [
    "## Algorithm adaptation methods \n",
    "\n",
    "### Multi-Label C4.5\n",
    "\n",
    "Modified the formula for calculating entropy for solving multilabel\n",
    "problems. The modified entropy sums the entropies for each\n",
    "individual class label. \n",
    "\n",
    "### Predictive clustering trees\n",
    "\n",
    "Predictive clustering trees (PCTs) are decision trees viewed\n",
    "as a hierarchy of clusters: the top-node corresponds to one cluster\n",
    "containing all data, which is recursively partitioned into smaller\n",
    "clusters while moving down the tree. PCTs for multi-label classification are constructed using a\n",
    "standard top-down induction of decision trees algorithm, where\n",
    "the splitting and stopping criterion is defined using the label information (unlike \n",
    "normal clustering which is unsupervised). "
   ]
  },
  {
   "cell_type": "markdown",
   "metadata": {},
   "source": [
    "## Ensemble methods\n",
    "\n",
    "### Ensembles of classifier chains\n",
    "\n",
    "ECC is a technique which ensemble multiple classifier chains $C_1$, $C_2$, ..., $C_m$. Each $C_k$ is trained with:\n",
    "\n",
    "- a random chain ordering (of L) and\n",
    "- a random subset of data \n",
    "\n",
    "Hence each $C_k$ model is likely to be unique and able to give\n",
    "different multi-label predictions. These predictions are summed\n",
    "per label so that each label receives a number of votes. A\n",
    "threshold is used to select the most popular labels which form\n",
    "the final predicted multi-label set.\n",
    "\n",
    "### Random forest of predictive clustering trees\n",
    "\n",
    "Random forest where each tree is a PCT. "
   ]
  },
  {
   "cell_type": "markdown",
   "metadata": {},
   "source": [
    "# Performance metrics\n",
    "\n",
    "- *Hamming loss*: measures the fraction of instances that are incorrectly predicted **per label**, averaged over the labels.\n",
    "- *Accuracy*: measures the fraction of instances that are correctly predicted (it uses subset accuracy: the set of labels predicted for a sample must **exactly match** the true set of labels).\n",
    "- *Jaccard similarity*: measures the proportion of predicted labels for a sample to its correct assignment, averaged over samples\n",
    "- Precision, recall, F1"
   ]
  },
  {
   "cell_type": "code",
   "execution_count": 92,
   "metadata": {},
   "outputs": [],
   "source": [
    "y_true = np.array([[0, 1], [1, 1]])\n",
    "y_pred = np.zeros((2, 2))"
   ]
  },
  {
   "cell_type": "code",
   "execution_count": 93,
   "metadata": {},
   "outputs": [
    {
     "data": {
      "text/plain": [
       "array([[0, 1],\n",
       "       [1, 1]])"
      ]
     },
     "execution_count": 93,
     "metadata": {},
     "output_type": "execute_result"
    }
   ],
   "source": [
    "y_true"
   ]
  },
  {
   "cell_type": "code",
   "execution_count": 94,
   "metadata": {},
   "outputs": [
    {
     "data": {
      "text/plain": [
       "array([[0., 0.],\n",
       "       [0., 0.]])"
      ]
     },
     "execution_count": 94,
     "metadata": {},
     "output_type": "execute_result"
    }
   ],
   "source": [
    "y_pred"
   ]
  },
  {
   "cell_type": "code",
   "execution_count": 95,
   "metadata": {},
   "outputs": [],
   "source": [
    "from sklearn.metrics import hamming_loss, accuracy_score, jaccard_similarity_score"
   ]
  },
  {
   "cell_type": "code",
   "execution_count": 96,
   "metadata": {},
   "outputs": [
    {
     "data": {
      "text/plain": [
       "0.75"
      ]
     },
     "execution_count": 96,
     "metadata": {},
     "output_type": "execute_result"
    }
   ],
   "source": [
    "# (0.5 + 1.0) / 2 \n",
    "hamming_loss(y_true, y_pred)"
   ]
  },
  {
   "cell_type": "code",
   "execution_count": 97,
   "metadata": {},
   "outputs": [
    {
     "data": {
      "text/plain": [
       "0.0"
      ]
     },
     "execution_count": 97,
     "metadata": {},
     "output_type": "execute_result"
    }
   ],
   "source": [
    "# 0 / 2\n",
    "accuracy_score(y_true, y_pred)"
   ]
  },
  {
   "cell_type": "code",
   "execution_count": 124,
   "metadata": {},
   "outputs": [
    {
     "data": {
      "text/plain": [
       "0.0"
      ]
     },
     "execution_count": 124,
     "metadata": {},
     "output_type": "execute_result"
    }
   ],
   "source": [
    "jaccard_similarity_score(y_true, y_pred)"
   ]
  },
  {
   "cell_type": "code",
   "execution_count": 125,
   "metadata": {},
   "outputs": [
    {
     "data": {
      "text/plain": [
       "0.75"
      ]
     },
     "execution_count": 125,
     "metadata": {},
     "output_type": "execute_result"
    }
   ],
   "source": [
    "jaccard_similarity_score(np.array([[0, 1], [1, 1]]), np.ones((2, 2)))"
   ]
  },
  {
   "cell_type": "markdown",
   "metadata": {},
   "source": [
    "# Multi-label classification with scikit-learn\n",
    "\n",
    "Data\n",
    "- Toxic comments from a Kaggle challenge, \n",
    "https://www.kaggle.com/c/jigsaw-toxic-comment-classification-challenge\n",
    "\n",
    "Multi-label classifiers in scikit-learn:\n",
    "- One-vs-the-rest classifier, http://scikit-learn.org/stable/modules/generated/sklearn.multiclass.OneVsRestClassifier.html\n",
    "- Classifier chain, http://scikit-learn.org/stable/modules/generated/sklearn.multioutput.ClassifierChain.html\n"
   ]
  },
  {
   "cell_type": "code",
   "execution_count": 9,
   "metadata": {},
   "outputs": [],
   "source": [
    "import numpy as np\n",
    "import pandas as pd\n",
    "from matplotlib import pyplot as plt\n",
    "%matplotlib inline\n",
    "import seaborn as sns\n",
    "import re\n",
    "#import scikitplot as skplt\n",
    "\n",
    "from sklearn.feature_extraction.text import TfidfVectorizer\n",
    "from sklearn.model_selection import train_test_split\n",
    "from sklearn.pipeline import Pipeline\n",
    "from sklearn.ensemble import RandomForestClassifier\n",
    "from sklearn.multiclass import OneVsRestClassifier\n",
    "from sklearn.linear_model import LogisticRegression"
   ]
  },
  {
   "cell_type": "markdown",
   "metadata": {},
   "source": [
    "## Read and clean data"
   ]
  },
  {
   "cell_type": "code",
   "execution_count": 11,
   "metadata": {},
   "outputs": [],
   "source": [
    "train_df = pd.read_csv('train.csv')\n",
    "test_df = pd.read_csv('test.csv')"
   ]
  },
  {
   "cell_type": "markdown",
   "metadata": {},
   "source": [
    "Let's take a look at a few examples."
   ]
  },
  {
   "cell_type": "code",
   "execution_count": 13,
   "metadata": {},
   "outputs": [
    {
     "data": {
      "text/html": [
       "<div>\n",
       "<style scoped>\n",
       "    .dataframe tbody tr th:only-of-type {\n",
       "        vertical-align: middle;\n",
       "    }\n",
       "\n",
       "    .dataframe tbody tr th {\n",
       "        vertical-align: top;\n",
       "    }\n",
       "\n",
       "    .dataframe thead th {\n",
       "        text-align: right;\n",
       "    }\n",
       "</style>\n",
       "<table border=\"1\" class=\"dataframe\">\n",
       "  <thead>\n",
       "    <tr style=\"text-align: right;\">\n",
       "      <th></th>\n",
       "      <th>id</th>\n",
       "      <th>comment_text</th>\n",
       "      <th>toxic</th>\n",
       "      <th>severe_toxic</th>\n",
       "      <th>obscene</th>\n",
       "      <th>threat</th>\n",
       "      <th>insult</th>\n",
       "      <th>identity_hate</th>\n",
       "    </tr>\n",
       "  </thead>\n",
       "  <tbody>\n",
       "    <tr>\n",
       "      <th>124334</th>\n",
       "      <td>991e4179b7c2dad4</td>\n",
       "      <td>BerksGuy \\n\\nI'm want you to know that if this...</td>\n",
       "      <td>0</td>\n",
       "      <td>0</td>\n",
       "      <td>0</td>\n",
       "      <td>0</td>\n",
       "      <td>0</td>\n",
       "      <td>0</td>\n",
       "    </tr>\n",
       "    <tr>\n",
       "      <th>125715</th>\n",
       "      <td>a084c5e83a0d3dab</td>\n",
       "      <td>Congratulations and welcome back.</td>\n",
       "      <td>0</td>\n",
       "      <td>0</td>\n",
       "      <td>0</td>\n",
       "      <td>0</td>\n",
       "      <td>0</td>\n",
       "      <td>0</td>\n",
       "    </tr>\n",
       "    <tr>\n",
       "      <th>145677</th>\n",
       "      <td>207d8dab89ee7f0c</td>\n",
       "      <td>Only if the author has been acknowledged as an...</td>\n",
       "      <td>0</td>\n",
       "      <td>0</td>\n",
       "      <td>0</td>\n",
       "      <td>0</td>\n",
       "      <td>0</td>\n",
       "      <td>0</td>\n",
       "    </tr>\n",
       "    <tr>\n",
       "      <th>42678</th>\n",
       "      <td>71e8e95f6177fad1</td>\n",
       "      <td>Go and fall off a cliff and die you pathetic b...</td>\n",
       "      <td>1</td>\n",
       "      <td>0</td>\n",
       "      <td>0</td>\n",
       "      <td>0</td>\n",
       "      <td>1</td>\n",
       "      <td>0</td>\n",
       "    </tr>\n",
       "    <tr>\n",
       "      <th>49150</th>\n",
       "      <td>836617ab6af5d6b6</td>\n",
       "      <td>Relations\\nDo you think the Federal Republic o...</td>\n",
       "      <td>0</td>\n",
       "      <td>0</td>\n",
       "      <td>0</td>\n",
       "      <td>0</td>\n",
       "      <td>0</td>\n",
       "      <td>0</td>\n",
       "    </tr>\n",
       "  </tbody>\n",
       "</table>\n",
       "</div>"
      ],
      "text/plain": [
       "                      id                                       comment_text  \\\n",
       "124334  991e4179b7c2dad4  BerksGuy \\n\\nI'm want you to know that if this...   \n",
       "125715  a084c5e83a0d3dab                  Congratulations and welcome back.   \n",
       "145677  207d8dab89ee7f0c  Only if the author has been acknowledged as an...   \n",
       "42678   71e8e95f6177fad1  Go and fall off a cliff and die you pathetic b...   \n",
       "49150   836617ab6af5d6b6  Relations\\nDo you think the Federal Republic o...   \n",
       "\n",
       "        toxic  severe_toxic  obscene  threat  insult  identity_hate  \n",
       "124334      0             0        0       0       0              0  \n",
       "125715      0             0        0       0       0              0  \n",
       "145677      0             0        0       0       0              0  \n",
       "42678       1             0        0       0       1              0  \n",
       "49150       0             0        0       0       0              0  "
      ]
     },
     "execution_count": 13,
     "metadata": {},
     "output_type": "execute_result"
    }
   ],
   "source": [
    "train_df.sample(5)"
   ]
  },
  {
   "cell_type": "markdown",
   "metadata": {},
   "source": [
    "In the training data, the comments are labelled as one or more of the six categories; toxic, severe toxic, obscene, threat, insult and identity hate. This is essentially a multi-label classification problem."
   ]
  },
  {
   "cell_type": "code",
   "execution_count": 31,
   "metadata": {},
   "outputs": [],
   "source": [
    "target_cols = ['obscene','insult','toxic','severe_toxic','identity_hate','threat']"
   ]
  },
  {
   "cell_type": "code",
   "execution_count": 17,
   "metadata": {},
   "outputs": [
    {
     "data": {
      "text/html": [
       "<div>\n",
       "<style scoped>\n",
       "    .dataframe tbody tr th:only-of-type {\n",
       "        vertical-align: middle;\n",
       "    }\n",
       "\n",
       "    .dataframe tbody tr th {\n",
       "        vertical-align: top;\n",
       "    }\n",
       "\n",
       "    .dataframe thead th {\n",
       "        text-align: right;\n",
       "    }\n",
       "</style>\n",
       "<table border=\"1\" class=\"dataframe\">\n",
       "  <thead>\n",
       "    <tr style=\"text-align: right;\">\n",
       "      <th></th>\n",
       "      <th>toxic</th>\n",
       "      <th>severe_toxic</th>\n",
       "      <th>obscene</th>\n",
       "      <th>threat</th>\n",
       "      <th>insult</th>\n",
       "      <th>identity_hate</th>\n",
       "    </tr>\n",
       "  </thead>\n",
       "  <tbody>\n",
       "    <tr>\n",
       "      <th>count</th>\n",
       "      <td>159571.000000</td>\n",
       "      <td>159571.000000</td>\n",
       "      <td>159571.000000</td>\n",
       "      <td>159571.000000</td>\n",
       "      <td>159571.000000</td>\n",
       "      <td>159571.000000</td>\n",
       "    </tr>\n",
       "    <tr>\n",
       "      <th>mean</th>\n",
       "      <td>0.095844</td>\n",
       "      <td>0.009996</td>\n",
       "      <td>0.052948</td>\n",
       "      <td>0.002996</td>\n",
       "      <td>0.049364</td>\n",
       "      <td>0.008805</td>\n",
       "    </tr>\n",
       "    <tr>\n",
       "      <th>std</th>\n",
       "      <td>0.294379</td>\n",
       "      <td>0.099477</td>\n",
       "      <td>0.223931</td>\n",
       "      <td>0.054650</td>\n",
       "      <td>0.216627</td>\n",
       "      <td>0.093420</td>\n",
       "    </tr>\n",
       "    <tr>\n",
       "      <th>min</th>\n",
       "      <td>0.000000</td>\n",
       "      <td>0.000000</td>\n",
       "      <td>0.000000</td>\n",
       "      <td>0.000000</td>\n",
       "      <td>0.000000</td>\n",
       "      <td>0.000000</td>\n",
       "    </tr>\n",
       "    <tr>\n",
       "      <th>25%</th>\n",
       "      <td>0.000000</td>\n",
       "      <td>0.000000</td>\n",
       "      <td>0.000000</td>\n",
       "      <td>0.000000</td>\n",
       "      <td>0.000000</td>\n",
       "      <td>0.000000</td>\n",
       "    </tr>\n",
       "    <tr>\n",
       "      <th>50%</th>\n",
       "      <td>0.000000</td>\n",
       "      <td>0.000000</td>\n",
       "      <td>0.000000</td>\n",
       "      <td>0.000000</td>\n",
       "      <td>0.000000</td>\n",
       "      <td>0.000000</td>\n",
       "    </tr>\n",
       "    <tr>\n",
       "      <th>75%</th>\n",
       "      <td>0.000000</td>\n",
       "      <td>0.000000</td>\n",
       "      <td>0.000000</td>\n",
       "      <td>0.000000</td>\n",
       "      <td>0.000000</td>\n",
       "      <td>0.000000</td>\n",
       "    </tr>\n",
       "    <tr>\n",
       "      <th>max</th>\n",
       "      <td>1.000000</td>\n",
       "      <td>1.000000</td>\n",
       "      <td>1.000000</td>\n",
       "      <td>1.000000</td>\n",
       "      <td>1.000000</td>\n",
       "      <td>1.000000</td>\n",
       "    </tr>\n",
       "  </tbody>\n",
       "</table>\n",
       "</div>"
      ],
      "text/plain": [
       "               toxic   severe_toxic        obscene         threat  \\\n",
       "count  159571.000000  159571.000000  159571.000000  159571.000000   \n",
       "mean        0.095844       0.009996       0.052948       0.002996   \n",
       "std         0.294379       0.099477       0.223931       0.054650   \n",
       "min         0.000000       0.000000       0.000000       0.000000   \n",
       "25%         0.000000       0.000000       0.000000       0.000000   \n",
       "50%         0.000000       0.000000       0.000000       0.000000   \n",
       "75%         0.000000       0.000000       0.000000       0.000000   \n",
       "max         1.000000       1.000000       1.000000       1.000000   \n",
       "\n",
       "              insult  identity_hate  \n",
       "count  159571.000000  159571.000000  \n",
       "mean        0.049364       0.008805  \n",
       "std         0.216627       0.093420  \n",
       "min         0.000000       0.000000  \n",
       "25%         0.000000       0.000000  \n",
       "50%         0.000000       0.000000  \n",
       "75%         0.000000       0.000000  \n",
       "max         1.000000       1.000000  "
      ]
     },
     "execution_count": 17,
     "metadata": {},
     "output_type": "execute_result"
    }
   ],
   "source": [
    "# check target columns\n",
    "train_df.describe()"
   ]
  },
  {
   "cell_type": "code",
   "execution_count": 19,
   "metadata": {},
   "outputs": [
    {
     "data": {
      "text/plain": [
       "obscene           8449\n",
       "insult            7877\n",
       "toxic            15294\n",
       "severe_toxic      1595\n",
       "identity_hate     1405\n",
       "threat             478\n",
       "dtype: int64"
      ]
     },
     "execution_count": 19,
     "metadata": {},
     "output_type": "execute_result"
    }
   ],
   "source": [
    "train_df[target_cols].sum()"
   ]
  },
  {
   "cell_type": "markdown",
   "metadata": {},
   "source": [
    "We see that majority of the comments are not labelled in one or more of these categories. This is imbalanced dataset."
   ]
  },
  {
   "cell_type": "markdown",
   "metadata": {},
   "source": [
    "Next let's see if there are correlations between the targets"
   ]
  },
  {
   "cell_type": "code",
   "execution_count": 26,
   "metadata": {},
   "outputs": [
    {
     "data": {
      "text/plain": [
       "<matplotlib.axes._subplots.AxesSubplot at 0x1a13634cf8>"
      ]
     },
     "execution_count": 26,
     "metadata": {},
     "output_type": "execute_result"
    },
    {
     "data": {
      "image/png": "[encoded data removed]",
      "text/plain": [
       "<Figure size 504x504 with 2 Axes>"
      ]
     },
     "metadata": {},
     "output_type": "display_data"
    }
   ],
   "source": [
    "plt.figure(figsize=(7,7))\n",
    "plt.title('Correlation of labels',y=1.05,size=14)\n",
    "sns.heatmap(train_df[target_cols].astype(float).corr(),\n",
    "            linewidths=0.1, vmax=1.0, square=True,\n",
    "           linecolor='white', annot=True)\n"
   ]
  },
  {
   "cell_type": "code",
   "execution_count": 27,
   "metadata": {},
   "outputs": [],
   "source": [
    "def clean_text(text):\n",
    "    text = text.lower()\n",
    "    text = re.sub(r\"what's\", \"what is \", text)\n",
    "    text = re.sub(r\"\\'s\", \" \", text)\n",
    "    text = re.sub(r\"\\'ve\", \" have \", text)\n",
    "    text = re.sub(r\"can't\", \"cannot \", text)\n",
    "    text = re.sub(r\"n't\", \" not \", text)\n",
    "    text = re.sub(r\"i'm\", \"i am \", text)\n",
    "    text = re.sub(r\"\\'re\", \" are \", text)\n",
    "    text = re.sub(r\"\\'d\", \" would \", text)\n",
    "    text = re.sub(r\"\\'ll\", \" will \", text)\n",
    "    text = re.sub(r\"\\'scuse\", \" excuse \", text)\n",
    "    text = re.sub('\\W', ' ', text)\n",
    "    text = re.sub('\\s+', ' ', text)\n",
    "    text = text.strip(' ')\n",
    "    return text"
   ]
  },
  {
   "cell_type": "code",
   "execution_count": 28,
   "metadata": {},
   "outputs": [],
   "source": [
    "train_df['comment_text'] = train_df['comment_text'].map(clean_text)"
   ]
  },
  {
   "cell_type": "code",
   "execution_count": 29,
   "metadata": {},
   "outputs": [],
   "source": [
    "train_df.to_csv('train_cleaned.csv', index=None)"
   ]
  },
  {
   "cell_type": "code",
   "execution_count": 30,
   "metadata": {},
   "outputs": [
    {
     "name": "stdout",
     "output_type": "stream",
     "text": [
      "  159572 train_cleaned.csv\n"
     ]
    }
   ],
   "source": [
    "!wc -l train_cleaned.csv"
   ]
  },
  {
   "cell_type": "markdown",
   "metadata": {},
   "source": [
    "## Build model - random forest"
   ]
  },
  {
   "cell_type": "code",
   "execution_count": 47,
   "metadata": {},
   "outputs": [],
   "source": [
    "df = pd.read_csv('train_cleaned.csv')\n",
    "X = df['comment_text']\n",
    "y = df[target_cols]"
   ]
  },
  {
   "cell_type": "code",
   "execution_count": 48,
   "metadata": {},
   "outputs": [
    {
     "data": {
      "text/plain": [
       "((79785,), (79786,), (79785, 6), (79786, 6))"
      ]
     },
     "execution_count": 48,
     "metadata": {},
     "output_type": "execute_result"
    }
   ],
   "source": [
    "xtrain, xval, ytrain, yval = train_test_split(X, y, test_size=0.5, random_state=1110)\n",
    "xtrain.shape, xval.shape, ytrain.shape, yval.shape"
   ]
  },
  {
   "cell_type": "code",
   "execution_count": 49,
   "metadata": {},
   "outputs": [
    {
     "data": {
      "text/html": [
       "<div>\n",
       "<style scoped>\n",
       "    .dataframe tbody tr th:only-of-type {\n",
       "        vertical-align: middle;\n",
       "    }\n",
       "\n",
       "    .dataframe tbody tr th {\n",
       "        vertical-align: top;\n",
       "    }\n",
       "\n",
       "    .dataframe thead th {\n",
       "        text-align: right;\n",
       "    }\n",
       "</style>\n",
       "<table border=\"1\" class=\"dataframe\">\n",
       "  <thead>\n",
       "    <tr style=\"text-align: right;\">\n",
       "      <th></th>\n",
       "      <th>obscene</th>\n",
       "      <th>insult</th>\n",
       "      <th>toxic</th>\n",
       "      <th>severe_toxic</th>\n",
       "      <th>identity_hate</th>\n",
       "      <th>threat</th>\n",
       "    </tr>\n",
       "  </thead>\n",
       "  <tbody>\n",
       "    <tr>\n",
       "      <th>51860</th>\n",
       "      <td>0</td>\n",
       "      <td>0</td>\n",
       "      <td>0</td>\n",
       "      <td>0</td>\n",
       "      <td>0</td>\n",
       "      <td>0</td>\n",
       "    </tr>\n",
       "    <tr>\n",
       "      <th>135662</th>\n",
       "      <td>0</td>\n",
       "      <td>0</td>\n",
       "      <td>0</td>\n",
       "      <td>0</td>\n",
       "      <td>0</td>\n",
       "      <td>0</td>\n",
       "    </tr>\n",
       "    <tr>\n",
       "      <th>76368</th>\n",
       "      <td>0</td>\n",
       "      <td>0</td>\n",
       "      <td>0</td>\n",
       "      <td>0</td>\n",
       "      <td>0</td>\n",
       "      <td>0</td>\n",
       "    </tr>\n",
       "    <tr>\n",
       "      <th>114580</th>\n",
       "      <td>0</td>\n",
       "      <td>0</td>\n",
       "      <td>0</td>\n",
       "      <td>0</td>\n",
       "      <td>0</td>\n",
       "      <td>0</td>\n",
       "    </tr>\n",
       "    <tr>\n",
       "      <th>7859</th>\n",
       "      <td>0</td>\n",
       "      <td>0</td>\n",
       "      <td>1</td>\n",
       "      <td>0</td>\n",
       "      <td>0</td>\n",
       "      <td>0</td>\n",
       "    </tr>\n",
       "  </tbody>\n",
       "</table>\n",
       "</div>"
      ],
      "text/plain": [
       "        obscene  insult  toxic  severe_toxic  identity_hate  threat\n",
       "51860         0       0      0             0              0       0\n",
       "135662        0       0      0             0              0       0\n",
       "76368         0       0      0             0              0       0\n",
       "114580        0       0      0             0              0       0\n",
       "7859          0       0      1             0              0       0"
      ]
     },
     "execution_count": 49,
     "metadata": {},
     "output_type": "execute_result"
    }
   ],
   "source": [
    "ytrain.head()"
   ]
  },
  {
   "cell_type": "code",
   "execution_count": 50,
   "metadata": {},
   "outputs": [],
   "source": [
    "pipeline = Pipeline([\n",
    "    ('tfidf', TfidfVectorizer(strip_accents='ascii', stop_words='english', max_features=5000)),\n",
    "    ('clf', RandomForestClassifier(n_estimators=200, class_weight='balanced',\n",
    "                                   bootstrap=True, oob_score=True, n_jobs=-1)),\n",
    "])\n",
    "\n",
    "rf = pipeline.fit(xtrain, ytrain)"
   ]
  },
  {
   "cell_type": "code",
   "execution_count": 51,
   "metadata": {},
   "outputs": [
    {
     "data": {
      "text/plain": [
       "0.9882434041486495"
      ]
     },
     "execution_count": 51,
     "metadata": {},
     "output_type": "execute_result"
    }
   ],
   "source": [
    "metrics.accuracy_score(rf.predict(xtrain), ytrain)"
   ]
  },
  {
   "cell_type": "code",
   "execution_count": 52,
   "metadata": {},
   "outputs": [
    {
     "data": {
      "text/plain": [
       "0.8902313689118392"
      ]
     },
     "execution_count": 52,
     "metadata": {},
     "output_type": "execute_result"
    }
   ],
   "source": [
    "metrics.accuracy_score(rf.predict(xval), yval)"
   ]
  },
  {
   "cell_type": "code",
   "execution_count": 53,
   "metadata": {},
   "outputs": [
    {
     "data": {
      "text/plain": [
       "0.03819592409695936"
      ]
     },
     "execution_count": 53,
     "metadata": {},
     "output_type": "execute_result"
    }
   ],
   "source": [
    "metrics.hamming_loss(rf.predict(xval), yval)"
   ]
  },
  {
   "cell_type": "markdown",
   "metadata": {},
   "source": [
    "## Build model - OneVsRest"
   ]
  },
  {
   "cell_type": "code",
   "execution_count": 56,
   "metadata": {},
   "outputs": [],
   "source": [
    "from sklearn.linear_model import LogisticRegression"
   ]
  },
  {
   "cell_type": "code",
   "execution_count": 57,
   "metadata": {},
   "outputs": [],
   "source": [
    "pipeline = Pipeline([\n",
    "    ('tfidf', TfidfVectorizer(strip_accents='ascii', stop_words='english', max_features=5000)),\n",
    "    ('clf', OneVsRestClassifier(LogisticRegression())),\n",
    "])\n",
    "\n",
    "ovr = pipeline.fit(xtrain, ytrain)"
   ]
  },
  {
   "cell_type": "code",
   "execution_count": 58,
   "metadata": {},
   "outputs": [
    {
     "data": {
      "text/plain": [
       "0.9184443386057705"
      ]
     },
     "execution_count": 58,
     "metadata": {},
     "output_type": "execute_result"
    }
   ],
   "source": [
    "metrics.accuracy_score(ovr.predict(xval), yval)"
   ]
  },
  {
   "cell_type": "code",
   "execution_count": 59,
   "metadata": {},
   "outputs": [
    {
     "data": {
      "text/plain": [
       "0.019579458384511902"
      ]
     },
     "execution_count": 59,
     "metadata": {},
     "output_type": "execute_result"
    }
   ],
   "source": [
    "metrics.hamming_loss(ovr.predict(xval), yval)"
   ]
  },
  {
   "cell_type": "markdown",
   "metadata": {},
   "source": [
    "## Build model - ClassifierChain\n",
    "\n",
    "As an exercise, go build a classifier using Classifier Chain method."
   ]
  },
  {
   "cell_type": "markdown",
   "metadata": {},
   "source": [
    "# Multi-label classification with scikit-multilearn"
   ]
  },
  {
   "cell_type": "markdown",
   "metadata": {},
   "source": [
    "Using the skmultilearn package (still under development). See http://scikit.ml/userguide.html"
   ]
  },
  {
   "cell_type": "code",
   "execution_count": 65,
   "metadata": {},
   "outputs": [
    {
     "name": "stdout",
     "output_type": "stream",
     "text": [
      "Collecting scikit-multilearn\n",
      "\u001b[?25l  Downloading https://files.pythonhosted.org/packages/e5/0e/3676301ed22e48037fb67dad2f5f35c1ba24dcfefae6c882fd1e35566e0f/scikit_multilearn-0.1.0-py3-none-any.whl (70kB)\n",
      "\u001b[K    100% |████████████████████████████████| 71kB 694kB/s \n",
      "\u001b[?25hInstalling collected packages: scikit-multilearn\n",
      "Successfully installed scikit-multilearn-0.1.0\n",
      "\u001b[33mYou are using pip version 18.0, however version 18.1 is available.\n",
      "You should consider upgrading via the 'pip install --upgrade pip' command.\u001b[0m\n"
     ]
    }
   ],
   "source": [
    "!pip install scikit-multilearn"
   ]
  },
  {
   "cell_type": "code",
   "execution_count": 66,
   "metadata": {},
   "outputs": [],
   "source": [
    "from skmultilearn.problem_transform import BinaryRelevance\n",
    "from sklearn.svm import SVC"
   ]
  },
  {
   "cell_type": "code",
   "execution_count": 67,
   "metadata": {},
   "outputs": [],
   "source": [
    "vect = TfidfVectorizer(strip_accents='ascii', stop_words='english', max_features=5000)"
   ]
  },
  {
   "cell_type": "code",
   "execution_count": 69,
   "metadata": {},
   "outputs": [
    {
     "data": {
      "text/plain": [
       "BinaryRelevance(classifier=SVC(C=1.0, cache_size=200, class_weight=None, coef0=0.0,\n",
       "  decision_function_shape='ovr', degree=3, gamma='auto', kernel='rbf',\n",
       "  max_iter=-1, probability=False, random_state=None, shrinking=True,\n",
       "  tol=0.001, verbose=False),\n",
       "        require_dense=[False, True])"
      ]
     },
     "execution_count": 69,
     "metadata": {},
     "output_type": "execute_result"
    }
   ],
   "source": [
    "clf = BinaryRelevance(\n",
    "    classifier=SVC(),\n",
    "    # X, y in dense format?\n",
    "    require_dense=[False, True]\n",
    ")\n",
    "\n",
    "clf.fit(vect.fit_transform(xtrain), ytrain)"
   ]
  },
  {
   "cell_type": "code",
   "execution_count": 71,
   "metadata": {},
   "outputs": [],
   "source": [
    "xval_mat = vect.transform(xval)\n",
    "ypred = clf.predict(xval_mat)"
   ]
  },
  {
   "cell_type": "code",
   "execution_count": 86,
   "metadata": {},
   "outputs": [
    {
     "name": "stdout",
     "output_type": "stream",
     "text": [
      "accuracy: 0.8987667009249743\n",
      "hamming loss: 0.03640362970947284\n"
     ]
    }
   ],
   "source": [
    "print(f\"accuracy: {metrics.accuracy_score(yval, ypred)}\")\n",
    "print(f\"hamming loss: {metrics.hamming_loss(yval, ypred)}\")"
   ]
  }
 ],
 "metadata": {
  "kernelspec": {
   "display_name": "Python 3",
   "language": "python",
   "name": "python3"
  },
  "language_info": {
   "codemirror_mode": {
    "name": "ipython",
    "version": 3
   },
   "file_extension": ".py",
   "mimetype": "text/x-python",
   "name": "python",
   "nbconvert_exporter": "python",
   "pygments_lexer": "ipython3",
   "version": "3.6.5"
  }
 },
 "nbformat": 4,
 "nbformat_minor": 2
}
